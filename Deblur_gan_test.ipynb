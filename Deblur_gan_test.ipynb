{
 "cells": [
  {
   "cell_type": "code",
   "execution_count": null,
   "metadata": {},
   "outputs": [],
   "source": [
    "####Only for colab\n",
    "!git clone https://github.com/hassansadiq1/Deblur_GAN.git\n",
    "import os\n",
    "os.chdir(\"Deblur_GAN/\")\n",
    "%tensorflow_version 1.x\n",
    "import tensorflow as tf\n",
    "tf.logging.set_verbosity(tf.logging.ERROR)"
   ]
  },
  {
   "cell_type": "code",
   "execution_count": 1,
   "metadata": {},
   "outputs": [
    {
     "name": "stderr",
     "output_type": "stream",
     "text": [
      "Using TensorFlow backend.\n"
     ]
    }
   ],
   "source": [
    "import numpy as np\n",
    "import glob, cv2, os\n",
    "\n",
    "from deblurgan.model import generator_model"
   ]
  },
  {
   "cell_type": "code",
   "execution_count": 2,
   "metadata": {},
   "outputs": [],
   "source": [
    "# Setting parameters for our model\n",
    "input_shape = (256,256,3)\n",
    "batch_size = 1\n",
    "input_directory = \"test_data/blurred\"\n",
    "model_weights = \"generator.h5\"\n",
    "output_directory = \"test_data\""
   ]
  },
  {
   "cell_type": "code",
   "execution_count": 3,
   "metadata": {},
   "outputs": [],
   "source": [
    "# Function to read images from input directory\n",
    "def load_images(images_path):\n",
    "\n",
    "    X_images = []\n",
    "    for img in images_path:\n",
    "      X_images.append(cv2.resize(cv2.imread(img), input_shape[:-1]))\n",
    "    X_images = np.array(X_images)\n",
    "    #Preprocessing i.e normalizing data\n",
    "    X_images = (X_images - 127.5) / 127.5\n",
    "        \n",
    "    return X_images"
   ]
  },
  {
   "cell_type": "code",
   "execution_count": 4,
   "metadata": {},
   "outputs": [],
   "source": [
    "#Creating an instant of model from weight file provided\n",
    "def test(input_dir, model, output_dir):\n",
    "    images_path = glob.glob(input_dir + \"/*\")\n",
    "    data = load_images(images_path)\n",
    "    g = generator_model(input_shape)\n",
    "    g.load_weights(model)\n",
    "    generated_images = g.predict(data, batch_size=batch_size)\n",
    "    #deprocessing i.e. un normalize\n",
    "    generated_images = (generated_images * 127.5 + 127.5).astype('uint8')\n",
    "    data = (data * 127.5 + 127.5).astype('uint8')\n",
    "    for i in range(generated_images.shape[0]):\n",
    "        output = np.concatenate((data[i,:,:,:],generated_images[i, :, :, :]), axis=1)\n",
    "        img_name = output_dir + \"/\" + os.path.basename(images_path[i])\n",
    "        cv2.imwrite(img_name,output)\n"
   ]
  },
  {
   "cell_type": "code",
   "execution_count": 5,
   "metadata": {},
   "outputs": [
    {
     "name": "stdout",
     "output_type": "stream",
     "text": [
      "WARNING:tensorflow:From /home/hani/hassan/lib/python3.6/site-packages/tensorflow_core/python/ops/resource_variable_ops.py:1630: calling BaseResourceVariable.__init__ (from tensorflow.python.ops.resource_variable_ops) with constraint is deprecated and will be removed in a future version.\n",
      "Instructions for updating:\n",
      "If using Keras pass *_constraint arguments to layers.\n",
      "WARNING:tensorflow:From /home/hani/hassan/lib/python3.6/site-packages/keras/backend/tensorflow_backend.py:422: The name tf.global_variables is deprecated. Please use tf.compat.v1.global_variables instead.\n",
      "\n"
     ]
    }
   ],
   "source": [
    "gen_images = test(input_directory, model_weights, output_directory)"
   ]
  },
  {
   "cell_type": "code",
   "execution_count": null,
   "metadata": {},
   "outputs": [],
   "source": []
  }
 ],
 "metadata": {
  "kernelspec": {
   "display_name": "hassan",
   "language": "python",
   "name": "hassan"
  },
  "language_info": {
   "codemirror_mode": {
    "name": "ipython",
    "version": 3
   },
   "file_extension": ".py",
   "mimetype": "text/x-python",
   "name": "python",
   "nbconvert_exporter": "python",
   "pygments_lexer": "ipython3",
   "version": "3.6.9"
  }
 },
 "nbformat": 4,
 "nbformat_minor": 4
}
